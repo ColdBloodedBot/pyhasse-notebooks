{
 "cells": [
  {
   "cell_type": "markdown",
   "metadata": {},
   "source": [
    "# Demo of pyhasse.fuzzy"
   ]
  },
  {
   "cell_type": "markdown",
   "metadata": {},
   "source": [
    "### Aim of the programm\n",
    "\n",
    "Application of fuzzy concepts within the framework of partial orders is one interesting option to take into regard that not any slight numerical difference is considered as relevant for a ranking."
   ]
  },
  {
   "cell_type": "markdown",
   "metadata": {},
   "source": [
    "### If not allredy done\n",
    "\n",
    "Comment out or delete the following line if the module is installed."
   ]
  },
  {
   "cell_type": "code",
   "execution_count": 1,
   "metadata": {},
   "outputs": [],
   "source": [
    "#!pip install pyhasse.fuzzy"
   ]
  },
  {
   "cell_type": "markdown",
   "metadata": {},
   "source": [
    "### import all nessesary libraries"
   ]
  },
  {
   "cell_type": "code",
   "execution_count": 2,
   "metadata": {},
   "outputs": [],
   "source": [
    "import pathlib\n",
    "from pyhasse.core.csv_io import CSVReader\n",
    "from pyhasse.core.order import Order\n",
    "from pyhasse.fuzzy.calc import Fuzzy\n",
    "import json\n",
    "from IPython.core.display import display, HTML\n",
    "from string import Template"
   ]
  },
  {
   "cell_type": "code",
   "execution_count": 13,
   "metadata": {},
   "outputs": [],
   "source": [
    "TESTFILENAME = '/csvdata/a_test12.txt'\n",
    "prefs={\n",
    "    'start': 0,\n",
    "    'stop': 3,\n",
    "    'user_list' : [],\n",
    "    'labelLen': 3,\n",
    "    'actwidth': 550,\n",
    "    'actheight': 200\n",
    "}\n",
    "\n",
    "HERE = pathlib.Path('__file__').parent\n",
    "csv = CSVReader(fn=str(HERE) + TESTFILENAME, ndec=3)\n",
    "red = csv.calc_reduced_system()\n",
    "order = Order(csv.dmred,\n",
    "              csv.redrows,\n",
    "              csv.cols)\n",
    "zeta = order.calc_relatmatrix(csv.dmred,\n",
    "                              csv.redrows,\n",
    "                              csv.cols)\n",
    "redrows = csv.redrows\n",
    "down = order.calc_downset(zeta, redrows)\n",
    "up = order.calc_upset(zeta, redrows)\n"
   ]
  },
  {
   "cell_type": "markdown",
   "metadata": {},
   "source": [
    "### Some basic data"
   ]
  },
  {
   "cell_type": "code",
   "execution_count": 14,
   "metadata": {},
   "outputs": [
    {
     "name": "stdout",
     "output_type": "stream",
     "text": [
      "20\n",
      "3\n",
      "['q1', 'q2', 'q3']\n",
      "['0', '1', '2', '3', '4', '5', '6', '7', '8', '9', '10', '11', '12', '13', '14', '15', '16', '17', '18', '19']\n",
      "['0', '1', '2', '3', '4', '5', '6', '7', '8', '9', '10', '11', '12', '13', '14', '15', '16', '17', '18', '19']\n",
      "[[0.263, 0.5, 0.45], [1.0, 0.611, 0.6], [1.0, 0.444, 0.8], [0.158, 0.444, 0.95], [1.0, 0.111, 0.0], [0.632, 0.556, 0.4], [0.737, 0.389, 0.95], [0.737, 0.722, 0.6], [0.158, 0.889, 1.0], [0.368, 0.667, 0.2], [0.842, 1.0, 0.05], [1.0, 0.611, 0.75], [0.474, 0.222, 0.15], [0.0, 0.667, 0.45], [0.0, 0.833, 0.35], [0.316, 0.944, 1.0], [0.158, 0.0, 0.4], [0.368, 0.778, 0.35], [0.842, 0.556, 0.3], [0.105, 0.611, 0.3]]\n"
     ]
    }
   ],
   "source": [
    "print(csv.rows)\n",
    "print(csv.cols)\n",
    "print(csv.prop)\n",
    "print(csv.obj)\n",
    "print(csv.objred)\n",
    "print(csv.data)"
   ]
  },
  {
   "cell_type": "code",
   "execution_count": 15,
   "metadata": {},
   "outputs": [
    {
     "name": "stdout",
     "output_type": "stream",
     "text": [
      "[[0, 1, 7, 11, 15], [1, 11], [2], [3, 8, 15], [1, 2, 4, 11], [1, 5, 7, 11], [6], [7], [8, 15], [7, 9, 17], [10], [11], [1, 2, 5, 6, 7, 11, 12, 18], [7, 8, 13, 15], [8, 14, 15], [15], [0, 1, 2, 3, 5, 6, 7, 8, 11, 15, 16], [17], [1, 11, 18], [1, 7, 8, 11, 15, 17, 19]]\n",
      "[[0, 16], [0, 1, 4, 5, 12, 16, 18, 19], [2, 4, 12, 16], [3, 16], [4], [5, 12, 16], [6, 12, 16], [0, 5, 7, 9, 12, 13, 16, 19], [3, 8, 13, 14, 16, 19], [9], [10], [0, 1, 4, 5, 11, 12, 16, 18, 19], [12], [13], [14], [0, 3, 8, 13, 14, 15, 16, 19], [16], [9, 17, 19], [12, 18], [19]]\n"
     ]
    }
   ],
   "source": [
    "incomp = order.calc_incompset(zeta, redrows)\n",
    "order.calc_incomp(zeta, redrows)\n",
    "down = order.calc_downset(zeta, redrows)\n",
    "up = order.calc_upset(zeta, redrows)\n",
    "print(up)\n",
    "print(down)"
   ]
  },
  {
   "cell_type": "markdown",
   "metadata": {},
   "source": [
    "### your/user input"
   ]
  },
  {
   "cell_type": "code",
   "execution_count": 18,
   "metadata": {},
   "outputs": [],
   "source": [
    "ndec = 3 \n",
    "acut = 0.6"
   ]
  },
  {
   "cell_type": "code",
   "execution_count": null,
   "metadata": {},
   "outputs": [],
   "source": [
    "rows = csv.rows\n",
    "cols = csv.cols\n",
    "dm = csv.data\n",
    "obj = csv.obj\n",
    "prop = csv.prop\n",
    "fuzzy = Fuzzy(rows, cols, dm, obj, prop, ndec)\n",
    "sh = fuzzy.calc_koskomatrix(dm, rows, cols)\n",
    "relat = fuzzy.fuzzyproduct(sh)\n",
    "lr = len(relat)\n",
    "for i1 in range(0, lr):\n",
    "    for i2 in range(0, lr):\n",
    "        relat[i1][i2] = round(relat[i1][i2], ndec)\n",
    "# Note, the values of relat matrix should be sorted increasingly\n",
    "# and delivered to the user\n",
    "\n",
    "crisp_relat = fuzzy.calc_crisp_matrix(relat, acut)\n",
    "objred_fuzzy_act = fuzzy.generate_representative_elements(crisp_relat)"
   ]
  },
  {
   "cell_type": "code",
   "execution_count": 19,
   "metadata": {},
   "outputs": [
    {
     "data": {
      "text/plain": [
       "['0', '4', '12', '16']"
      ]
     },
     "execution_count": 19,
     "metadata": {},
     "output_type": "execute_result"
    }
   ],
   "source": [
    "objred_fuzzy_act"
   ]
  }
 ],
 "metadata": {
  "kernelspec": {
   "display_name": "Python 3",
   "language": "python",
   "name": "python3"
  },
  "language_info": {
   "codemirror_mode": {
    "name": "ipython",
    "version": 3
   },
   "file_extension": ".py",
   "mimetype": "text/x-python",
   "name": "python",
   "nbconvert_exporter": "python",
   "pygments_lexer": "ipython3",
   "version": "3.7.3"
  }
 },
 "nbformat": 4,
 "nbformat_minor": 2
}
